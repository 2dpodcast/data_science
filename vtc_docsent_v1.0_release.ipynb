{
 "cells": [
  {
   "cell_type": "code",
   "execution_count": 1,
   "metadata": {
    "collapsed": false
   },
   "outputs": [
    {
     "name": "stderr",
     "output_type": "stream",
     "text": [
      "WARNING (theano.configdefaults): g++ not detected ! Theano will be unable to execute optimized C-implementations (for both CPU and GPU) and will default to Python implementations. Performance will be severely degraded. To remove this warning, set Theano flags cxx to an empty string.\n",
      "WARNING:theano.configdefaults:g++ not detected ! Theano will be unable to execute optimized C-implementations (for both CPU and GPU) and will default to Python implementations. Performance will be severely degraded. To remove this warning, set Theano flags cxx to an empty string.\n"
     ]
    }
   ],
   "source": [
    "import logging\n",
    "import numpy as np  \n",
    "from gensim.models import Doc2Vec\n",
    "import os\n",
    "import codecs\n",
    "\n",
    "logging.basicConfig(format='%(asctime)s : %(levelname)s : %(message)s',level=logging.INFO)"
   ]
  },
  {
   "cell_type": "code",
   "execution_count": 2,
   "metadata": {
    "collapsed": true
   },
   "outputs": [],
   "source": [
    "dbow = Doc2Vec.load(\"/home/laampt/nlp/xnews/docsent_v1.0/docsent_dbow_5ns_100features_1mw_r20\")"
   ]
  },
  {
   "cell_type": "code",
   "execution_count": 3,
   "metadata": {
    "collapsed": false
   },
   "outputs": [
    {
     "name": "stdout",
     "output_type": "stream",
     "text": [
      "Doc2Vec(dbow+w,d100,n5,hs,w8,mc2,s0.001,t4)\n"
     ]
    }
   ],
   "source": [
    "print dbow"
   ]
  },
  {
   "cell_type": "markdown",
   "metadata": {},
   "source": [
    "## Loading trained models"
   ]
  },
  {
   "cell_type": "code",
   "execution_count": 4,
   "metadata": {
    "collapsed": true
   },
   "outputs": [],
   "source": [
    "from sklearn.externals import joblib"
   ]
  },
  {
   "cell_type": "code",
   "execution_count": 5,
   "metadata": {
    "collapsed": true
   },
   "outputs": [],
   "source": [
    "svc = joblib.load(\"/home/laampt/nlp/xnews/docsent_v1.0/svc_c10.pkl\")\n",
    "lr = joblib.load(\"/home/laampt/nlp/xnews/docsent_v1.0/lr_c100.pkl\")\n",
    "gbc = joblib.load(\"/home/laampt/nlp/xnews/docsent_v1.0/gbc_e200.pkl\")"
   ]
  },
  {
   "cell_type": "markdown",
   "metadata": {},
   "source": [
    "## Helpers"
   ]
  },
  {
   "cell_type": "code",
   "execution_count": 23,
   "metadata": {
    "collapsed": true
   },
   "outputs": [],
   "source": [
    "def get_a1_score(doc, dbow=dbow, relevant_score=0.5, isVec=False, cv=3):\n",
    "    scores = []\n",
    "    for i in range(cv):\n",
    "        vec = dbow.infer_vector(doc.lower().strip().split()) if not isVec else doc\n",
    "        sims = filter(lambda x: x[1] > relevant_score, dbow.docvecs.most_similar([vec]))\n",
    "        vc_score = 1.0 * np.sum([x[1] for x in sims if x[0].startswith(u\"vc_\")]) / (np.sum([x[1] for x in sims]) + 0.001)\n",
    "        scores += [vc_score]\n",
    "    return np.mean(scores)"
   ]
  },
  {
   "cell_type": "code",
   "execution_count": 32,
   "metadata": {
    "collapsed": false
   },
   "outputs": [
    {
     "data": {
      "text/plain": [
       "0.067201553003725628"
      ]
     },
     "execution_count": 32,
     "metadata": {},
     "output_type": "execute_result"
    }
   ],
   "source": [
    "get_a1_score(u\"tôi yêu đảng cộng_sản việt_nam muôn năm\", dbow)"
   ]
  },
  {
   "cell_type": "code",
   "execution_count": 33,
   "metadata": {
    "collapsed": false
   },
   "outputs": [
    {
     "data": {
      "text/plain": [
       "0.99986322145953854"
      ]
     },
     "execution_count": 33,
     "metadata": {},
     "output_type": "execute_result"
    }
   ],
   "source": [
    "get_a1_score(dbow.docvecs['vc_100'], dbow, isVec=True)"
   ]
  },
  {
   "cell_type": "markdown",
   "metadata": {},
   "source": [
    "## Predict API"
   ]
  },
  {
   "cell_type": "code",
   "execution_count": 34,
   "metadata": {
    "collapsed": true
   },
   "outputs": [],
   "source": [
    "def get_docsent_score(vec, svc=svc,lr=lr, gbc=gbc):\n",
    "    l1_score = get_a1_score(vec, isVec=True)\n",
    "    y_predict = 0\n",
    "    if l1_score < 0.1:\n",
    "        y_predict = 0\n",
    "    elif l1_score > 0.9:\n",
    "        y_predict = 1\n",
    "    else:\n",
    "        y_predict = 1 if np.mean([svc.predict(vec)[0], lr.predict(vec)[0], gbc.predict(vec)[0]]) > 0.5 else 0\n",
    "    return y_predict"
   ]
  },
  {
   "cell_type": "code",
   "execution_count": null,
   "metadata": {
    "collapsed": false
   },
   "outputs": [],
   "source": [
    "%%time\n",
    "\n",
    "pos_num = 5090\n",
    "y_pred = []\n",
    "\n",
    "for i in range(pos_num):\n",
    "    v_b = dbow.docvecs[\"vc_{}\".format(i)]\n",
    "    if v_b.shape[0] == 100: \n",
    "        y_pred += [get_docsent_score(v_b)]\n",
    "    else:\n",
    "        pass"
   ]
  },
  {
   "cell_type": "code",
   "execution_count": 39,
   "metadata": {
    "collapsed": false
   },
   "outputs": [
    {
     "name": "stdout",
     "output_type": "stream",
     "text": [
      "0.997249508841\n"
     ]
    }
   ],
   "source": [
    "# test on 5090 black docs\n",
    "print 1. * np.sum(y_pred) / pos_num"
   ]
  },
  {
   "cell_type": "code",
   "execution_count": 40,
   "metadata": {
    "collapsed": true
   },
   "outputs": [],
   "source": [
    "# can be used with tfidf in version 0.5"
   ]
  },
  {
   "cell_type": "code",
   "execution_count": null,
   "metadata": {
    "collapsed": true
   },
   "outputs": [],
   "source": []
  }
 ],
 "metadata": {
  "kernelspec": {
   "display_name": "Python 2",
   "language": "python",
   "name": "python2"
  },
  "language_info": {
   "codemirror_mode": {
    "name": "ipython",
    "version": 2
   },
   "file_extension": ".py",
   "mimetype": "text/x-python",
   "name": "python",
   "nbconvert_exporter": "python",
   "pygments_lexer": "ipython2",
   "version": "2.7.9"
  }
 },
 "nbformat": 4,
 "nbformat_minor": 0
}
