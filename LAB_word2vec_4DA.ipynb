{
 "cells": [
  {
   "cell_type": "code",
   "execution_count": 24,
   "metadata": {
    "collapsed": false
   },
   "outputs": [
    {
     "name": "stdout",
     "output_type": "stream",
     "text": [
      "/home/laampt/Downloads/BIGLAB/OUT\n"
     ]
    }
   ],
   "source": [
    "cd /home/laampt/Downloads/BIGLAB/OUT"
   ]
  },
  {
   "cell_type": "code",
   "execution_count": 25,
   "metadata": {
    "collapsed": false
   },
   "outputs": [],
   "source": [
    "import numpy as np\n",
    "from gensim.models import word2vec\n",
    "import gensim\n",
    "from big_corpus import *"
   ]
  },
  {
   "cell_type": "code",
   "execution_count": 26,
   "metadata": {
    "collapsed": true
   },
   "outputs": [],
   "source": [
    "def train(output):\n",
    "    print 'Training ...'\n",
    "    model = word2vec.Word2Vec(BigCorpusDirectory('data/play'), workers=num_workers,\n",
    "                              size=num_features, min_count=min_word_count,\n",
    "                              window=context, sample=downsampling)\n",
    "\n",
    "    # If you don't plan to train the model any further, calling\n",
    "    # init_sims will make the model much more memory-efficient.\n",
    "    model.init_sims()\n",
    "\n",
    "    # It can be helpful to create a meaningful model name and\n",
    "    # save the model for later use. You can load it later using Word2Vec.load()\n",
    "    model.save(output, ignore=[])\n",
    "\n",
    "    print model.similarity('queen', 'lady')"
   ]
  },
  {
   "cell_type": "code",
   "execution_count": 27,
   "metadata": {
    "collapsed": true
   },
   "outputs": [],
   "source": [
    "# Set values for various parameters\n",
    "num_features = 300  # Word vector dimensionality\n",
    "min_word_count = 40  # Minimum word count\n",
    "num_workers = 4  # Number of threads to run in parallel\n",
    "context = 10  # Context window size\n",
    "downsampling = 1e-3  # Downsample setting for frequent words\n",
    "model_name1 = \"data/model/lf_300features_40minwords_10context\"\n",
    "model_name2 = \"data/model/lf_300features_40minwords_10context_collective\""
   ]
  },
  {
   "cell_type": "code",
   "execution_count": 28,
   "metadata": {
    "collapsed": false
   },
   "outputs": [
    {
     "name": "stdout",
     "output_type": "stream",
     "text": [
      "Training ...\n",
      "-0.073881448766\n",
      "CPU times: user 400 ms, sys: 96 ms, total: 496 ms\n",
      "Wall time: 442 ms\n"
     ]
    }
   ],
   "source": [
    "%%time\n",
    "train(model_name1)"
   ]
  },
  {
   "cell_type": "code",
   "execution_count": 29,
   "metadata": {
    "collapsed": true
   },
   "outputs": [],
   "source": [
    "m1 = word2vec.Word2Vec.load(\"data/model/lf_300features_40minwords_10context\")"
   ]
  },
  {
   "cell_type": "code",
   "execution_count": 30,
   "metadata": {
    "collapsed": false
   },
   "outputs": [
    {
     "name": "stdout",
     "output_type": "stream",
     "text": [
      "Word2Vec(vocab=148, size=300, alpha=0.025)\n"
     ]
    }
   ],
   "source": [
    "print m1"
   ]
  },
  {
   "cell_type": "code",
   "execution_count": 31,
   "metadata": {
    "collapsed": false
   },
   "outputs": [],
   "source": [
    "from sklearn.metrics.pairwise import cosine_similarity"
   ]
  },
  {
   "cell_type": "code",
   "execution_count": 32,
   "metadata": {
    "collapsed": false
   },
   "outputs": [
    {
     "data": {
      "text/plain": [
       "array([[-0.07388144]], dtype=float32)"
      ]
     },
     "execution_count": 32,
     "metadata": {},
     "output_type": "execute_result"
    }
   ],
   "source": [
    "cosine_similarity(m1['queen'], m1['lady'])"
   ]
  },
  {
   "cell_type": "code",
   "execution_count": 39,
   "metadata": {
    "collapsed": true
   },
   "outputs": [],
   "source": [
    "def parallel_train(output):\n",
    "    def gradient(model, sentences):  # executes on workers\n",
    "        syn0, syn1 = model.syn0.copy(), model.syn1.copy()  # previous weights\n",
    "        model.train(sentences)\n",
    "        return {'syn0': model.syn0 - syn0, 'syn1': model.syn1 - syn1}\n",
    "\n",
    "    def descent(model, update):  # executes on master\n",
    "        model.syn0 += update['syn0']\n",
    "        model.syn1 += update['syn1']\n",
    "\n",
    "#     root = word2vec.Word2Vec()\n",
    "#     root.build_vocab(\n",
    "#         BigCorpusDirectory('data/play')\n",
    "#     )\n",
    "#     root.save(output)\n",
    "\n",
    "    input_files = [\n",
    "        'data/play/hamlet.txt',\n",
    "        'data/play/juliet.txt'\n",
    "    ]\n",
    "\n",
    "    collective = word2vec.Word2Vec(size=num_features, min_count=min_word_count,\n",
    "                                   window=context, sample=downsampling)\n",
    "#     collective.reset_from(root)\n",
    "    collective.build_vocab(BigCorpusDirectory('data/play'))\n",
    "\n",
    "    for input_file in input_files:\n",
    "        individual = word2vec.Word2Vec(size=num_features, min_count=min_word_count,\n",
    "                                       window=context, sample=downsampling)\n",
    "        individual.reset_from(collective)\n",
    "\n",
    "        descent(\n",
    "            collective,\n",
    "            gradient(\n",
    "                individual,\n",
    "                BigCorpusFile(input_file)\n",
    "            )\n",
    "        )\n",
    "    ## LAMP\n",
    "    collective.init_sims()\n",
    "    collective.save(output, ignore=[])\n",
    "        # individual.train(BigCorpusFile(input_file))\n",
    "        #\n",
    "        # collective.syn0 += individual.syn0\n",
    "        # collective.syn1 += individual.syn1\n",
    "\n",
    "    print collective.similarity('queen', 'lady')"
   ]
  },
  {
   "cell_type": "code",
   "execution_count": 40,
   "metadata": {
    "collapsed": false
   },
   "outputs": [
    {
     "name": "stderr",
     "output_type": "stream",
     "text": [
      "WARNING:gensim.models.word2vec:supplied example count (7881) did not equal expected count (27853)\n",
      "WARNING:gensim.models.word2vec:supplied example count (6045) did not equal expected count (27853)\n"
     ]
    },
    {
     "name": "stdout",
     "output_type": "stream",
     "text": [
      "-0.0658330822267\n"
     ]
    }
   ],
   "source": [
    "parallel_train(model_name2)"
   ]
  },
  {
   "cell_type": "code",
   "execution_count": 41,
   "metadata": {
    "collapsed": true
   },
   "outputs": [],
   "source": [
    "m2 = word2vec.Word2Vec.load(model_name2)"
   ]
  },
  {
   "cell_type": "code",
   "execution_count": 42,
   "metadata": {
    "collapsed": false
   },
   "outputs": [
    {
     "name": "stdout",
     "output_type": "stream",
     "text": [
      "Word2Vec(vocab=148, size=300, alpha=0.025)\n"
     ]
    }
   ],
   "source": [
    "print m2"
   ]
  },
  {
   "cell_type": "code",
   "execution_count": 43,
   "metadata": {
    "collapsed": false
   },
   "outputs": [
    {
     "data": {
      "text/plain": [
       "array([[-0.06583308]], dtype=float32)"
      ]
     },
     "execution_count": 43,
     "metadata": {},
     "output_type": "execute_result"
    }
   ],
   "source": [
    "cosine_similarity(m2['queen'], m2['lady'])"
   ]
  },
  {
   "cell_type": "markdown",
   "metadata": {},
   "source": [
    "## Multi epoches on M1, M2"
   ]
  },
  {
   "cell_type": "code",
   "execution_count": 44,
   "metadata": {
    "collapsed": false
   },
   "outputs": [
    {
     "name": "stdout",
     "output_type": "stream",
     "text": [
      "EPO: 00\n",
      "Training ...\n",
      "-0.0441904162324\n",
      "EPO: 01\n",
      "Training ...\n",
      "-0.0583321660353\n",
      "EPO: 02\n",
      "Training ...\n",
      "-0.0810477338953\n",
      "EPO: 03\n",
      "Training ...\n",
      "-0.0764315344962\n",
      "EPO: 04\n",
      "Training ...\n",
      "-0.0573930044389\n",
      "EPO: 05\n",
      "Training ...\n",
      "-0.0601818866959\n",
      "EPO: 06\n",
      "Training ...\n",
      "-0.0938245915406\n",
      "EPO: 07\n",
      "Training ...\n",
      "-0.0621270623343\n",
      "EPO: 08\n",
      "Training ...\n",
      "-0.0555930583939\n",
      "EPO: 09\n",
      "Training ...\n",
      "-0.0583459843475\n",
      "CPU times: user 3.82 s, sys: 3.18 s, total: 7 s\n",
      "Wall time: 4.42 s\n"
     ]
    }
   ],
   "source": [
    "%%time\n",
    "for i in range(10):\n",
    "    print \"EPO: {:02d}\".format(i)\n",
    "    train(model_name1)"
   ]
  },
  {
   "cell_type": "code",
   "execution_count": 45,
   "metadata": {
    "collapsed": false
   },
   "outputs": [
    {
     "name": "stderr",
     "output_type": "stream",
     "text": [
      "WARNING:gensim.models.word2vec:supplied example count (7881) did not equal expected count (27853)\n",
      "WARNING:gensim.models.word2vec:supplied example count (6045) did not equal expected count (27853)\n"
     ]
    },
    {
     "name": "stdout",
     "output_type": "stream",
     "text": [
      "EPO: 00\n",
      "-0.0658330822267"
     ]
    },
    {
     "name": "stderr",
     "output_type": "stream",
     "text": [
      "WARNING:gensim.models.word2vec:supplied example count (7881) did not equal expected count (27853)\n",
      "WARNING:gensim.models.word2vec:supplied example count (6045) did not equal expected count (27853)\n"
     ]
    },
    {
     "name": "stdout",
     "output_type": "stream",
     "text": [
      "\n",
      "EPO: 01\n",
      "-0.0658330822267"
     ]
    },
    {
     "name": "stderr",
     "output_type": "stream",
     "text": [
      "WARNING:gensim.models.word2vec:supplied example count (7881) did not equal expected count (27853)\n",
      "WARNING:gensim.models.word2vec:supplied example count (6045) did not equal expected count (27853)\n"
     ]
    },
    {
     "name": "stdout",
     "output_type": "stream",
     "text": [
      "\n",
      "EPO: 02\n",
      "-0.0658330822267"
     ]
    },
    {
     "name": "stderr",
     "output_type": "stream",
     "text": [
      "WARNING:gensim.models.word2vec:supplied example count (7881) did not equal expected count (27853)\n",
      "WARNING:gensim.models.word2vec:supplied example count (6045) did not equal expected count (27853)\n"
     ]
    },
    {
     "name": "stdout",
     "output_type": "stream",
     "text": [
      "\n",
      "EPO: 03\n",
      "-0.0658330822267"
     ]
    },
    {
     "name": "stderr",
     "output_type": "stream",
     "text": [
      "WARNING:gensim.models.word2vec:supplied example count (7881) did not equal expected count (27853)\n",
      "WARNING:gensim.models.word2vec:supplied example count (6045) did not equal expected count (27853)\n"
     ]
    },
    {
     "name": "stdout",
     "output_type": "stream",
     "text": [
      "\n",
      "EPO: 04\n",
      "-0.0658330822267"
     ]
    },
    {
     "name": "stderr",
     "output_type": "stream",
     "text": [
      "WARNING:gensim.models.word2vec:supplied example count (7881) did not equal expected count (27853)\n",
      "WARNING:gensim.models.word2vec:supplied example count (6045) did not equal expected count (27853)\n"
     ]
    },
    {
     "name": "stdout",
     "output_type": "stream",
     "text": [
      "\n",
      "EPO: 05\n",
      "-0.0658330822267"
     ]
    },
    {
     "name": "stderr",
     "output_type": "stream",
     "text": [
      "WARNING:gensim.models.word2vec:supplied example count (7881) did not equal expected count (27853)\n",
      "WARNING:gensim.models.word2vec:supplied example count (6045) did not equal expected count (27853)\n"
     ]
    },
    {
     "name": "stdout",
     "output_type": "stream",
     "text": [
      "\n",
      "EPO: 06\n",
      "-0.0658330822267"
     ]
    },
    {
     "name": "stderr",
     "output_type": "stream",
     "text": [
      "WARNING:gensim.models.word2vec:supplied example count (7881) did not equal expected count (27853)\n",
      "WARNING:gensim.models.word2vec:supplied example count (6045) did not equal expected count (27853)\n"
     ]
    },
    {
     "name": "stdout",
     "output_type": "stream",
     "text": [
      "\n",
      "EPO: 07\n",
      "-0.0658330822267"
     ]
    },
    {
     "name": "stderr",
     "output_type": "stream",
     "text": [
      "WARNING:gensim.models.word2vec:supplied example count (7881) did not equal expected count (27853)\n",
      "WARNING:gensim.models.word2vec:supplied example count (6045) did not equal expected count (27853)\n"
     ]
    },
    {
     "name": "stdout",
     "output_type": "stream",
     "text": [
      "\n",
      "EPO: 08\n",
      "-0.0658330822267"
     ]
    },
    {
     "name": "stderr",
     "output_type": "stream",
     "text": [
      "WARNING:gensim.models.word2vec:supplied example count (7881) did not equal expected count (27853)\n",
      "WARNING:gensim.models.word2vec:supplied example count (6045) did not equal expected count (27853)\n"
     ]
    },
    {
     "name": "stdout",
     "output_type": "stream",
     "text": [
      "\n",
      "EPO: 09\n",
      "-0.0658330822267\n",
      "CPU times: user 1.22 s, sys: 0 ns, total: 1.22 s\n",
      "Wall time: 1.11 s\n"
     ]
    }
   ],
   "source": [
    "%%time\n",
    "for i in range(10):\n",
    "    print \"EPO: {:02d}\".format(i)\n",
    "    parallel_train(model_name2)"
   ]
  },
  {
   "cell_type": "code",
   "execution_count": 47,
   "metadata": {
    "collapsed": false
   },
   "outputs": [
    {
     "name": "stderr",
     "output_type": "stream",
     "text": [
      "WARNING:gensim.models.word2vec:supplied example count (1) did not equal expected count (27853)\n"
     ]
    },
    {
     "data": {
      "text/plain": [
       "0"
      ]
     },
     "execution_count": 47,
     "metadata": {},
     "output_type": "execute_result"
    }
   ],
   "source": [
    "m2.train([[\"I\", \"love\", \"shakespeare\"]])"
   ]
  },
  {
   "cell_type": "code",
   "execution_count": null,
   "metadata": {
    "collapsed": true
   },
   "outputs": [],
   "source": []
  }
 ],
 "metadata": {
  "kernelspec": {
   "display_name": "Python 2",
   "language": "python",
   "name": "python2"
  },
  "language_info": {
   "codemirror_mode": {
    "name": "ipython",
    "version": 2
   },
   "file_extension": ".py",
   "mimetype": "text/x-python",
   "name": "python",
   "nbconvert_exporter": "python",
   "pygments_lexer": "ipython2",
   "version": "2.7.9"
  }
 },
 "nbformat": 4,
 "nbformat_minor": 0
}
